{
 "cells": [
  {
   "cell_type": "code",
   "execution_count": 1,
   "id": "427735ad-7119-4fc7-bda8-4dee282f0165",
   "metadata": {},
   "outputs": [],
   "source": [
    "import numpy as np"
   ]
  },
  {
   "cell_type": "code",
   "execution_count": 2,
   "id": "a3a74b42-88b9-4c70-9c0b-826d1d6536c2",
   "metadata": {},
   "outputs": [],
   "source": [
    "import pandas as pd"
   ]
  },
  {
   "cell_type": "code",
   "execution_count": 10,
   "id": "8678cfaa-cf48-4760-a683-9b7163c2775a",
   "metadata": {},
   "outputs": [],
   "source": [
    "sales=pd.read_csv(r'C:\\Users\\kramo\\Downloads\\Practice sales dataset.csv')"
   ]
  },
  {
   "cell_type": "code",
   "execution_count": 11,
   "id": "530483a2-c1b7-471d-bc59-56cc58e31949",
   "metadata": {},
   "outputs": [
    {
     "data": {
      "text/html": [
       "<div>\n",
       "<style scoped>\n",
       "    .dataframe tbody tr th:only-of-type {\n",
       "        vertical-align: middle;\n",
       "    }\n",
       "\n",
       "    .dataframe tbody tr th {\n",
       "        vertical-align: top;\n",
       "    }\n",
       "\n",
       "    .dataframe thead th {\n",
       "        text-align: right;\n",
       "    }\n",
       "</style>\n",
       "<table border=\"1\" class=\"dataframe\">\n",
       "  <thead>\n",
       "    <tr style=\"text-align: right;\">\n",
       "      <th></th>\n",
       "      <th>Unnamed: 0</th>\n",
       "      <th>customer_id</th>\n",
       "      <th>date</th>\n",
       "      <th>product</th>\n",
       "      <th>geolocation</th>\n",
       "      <th>revenue</th>\n",
       "      <th>sales</th>\n",
       "      <th>discount</th>\n",
       "      <th>tax</th>\n",
       "      <th>cost_of_goods</th>\n",
       "    </tr>\n",
       "  </thead>\n",
       "  <tbody>\n",
       "    <tr>\n",
       "      <th>0</th>\n",
       "      <td>0</td>\n",
       "      <td>1</td>\n",
       "      <td>2020-10-17</td>\n",
       "      <td>Shirt</td>\n",
       "      <td>Los Anges</td>\n",
       "      <td>1290</td>\n",
       "      <td>16</td>\n",
       "      <td>0.070051</td>\n",
       "      <td>0.060433</td>\n",
       "      <td>516.00</td>\n",
       "    </tr>\n",
       "    <tr>\n",
       "      <th>1</th>\n",
       "      <td>1</td>\n",
       "      <td>2</td>\n",
       "      <td>2022-02-09</td>\n",
       "      <td>Bag</td>\n",
       "      <td>Montreal</td>\n",
       "      <td>4453</td>\n",
       "      <td>12</td>\n",
       "      <td>0.396331</td>\n",
       "      <td>0.087020</td>\n",
       "      <td>1781.20</td>\n",
       "    </tr>\n",
       "    <tr>\n",
       "      <th>2</th>\n",
       "      <td>2</td>\n",
       "      <td>3</td>\n",
       "      <td>2021-05-28</td>\n",
       "      <td>Compter</td>\n",
       "      <td>Los Anges</td>\n",
       "      <td>3933</td>\n",
       "      <td>87</td>\n",
       "      <td>0.354361</td>\n",
       "      <td>0.002370</td>\n",
       "      <td>2949.75</td>\n",
       "    </tr>\n",
       "    <tr>\n",
       "      <th>3</th>\n",
       "      <td>3</td>\n",
       "      <td>4</td>\n",
       "      <td>2020-12-18</td>\n",
       "      <td>Shirt</td>\n",
       "      <td>Seattle</td>\n",
       "      <td>6160</td>\n",
       "      <td>19</td>\n",
       "      <td>0.060434</td>\n",
       "      <td>0.068478</td>\n",
       "      <td>2464.00</td>\n",
       "    </tr>\n",
       "    <tr>\n",
       "      <th>4</th>\n",
       "      <td>4</td>\n",
       "      <td>5</td>\n",
       "      <td>2022-09-16</td>\n",
       "      <td>Dress</td>\n",
       "      <td>Seattle</td>\n",
       "      <td>7513</td>\n",
       "      <td>89</td>\n",
       "      <td>0.090327</td>\n",
       "      <td>0.013464</td>\n",
       "      <td>3756.50</td>\n",
       "    </tr>\n",
       "    <tr>\n",
       "      <th>...</th>\n",
       "      <td>...</td>\n",
       "      <td>...</td>\n",
       "      <td>...</td>\n",
       "      <td>...</td>\n",
       "      <td>...</td>\n",
       "      <td>...</td>\n",
       "      <td>...</td>\n",
       "      <td>...</td>\n",
       "      <td>...</td>\n",
       "      <td>...</td>\n",
       "    </tr>\n",
       "    <tr>\n",
       "      <th>995</th>\n",
       "      <td>995</td>\n",
       "      <td>996</td>\n",
       "      <td>2022-06-12</td>\n",
       "      <td>Hat</td>\n",
       "      <td>Los Anges</td>\n",
       "      <td>9857</td>\n",
       "      <td>4</td>\n",
       "      <td>0.009385</td>\n",
       "      <td>0.050736</td>\n",
       "      <td>2464.25</td>\n",
       "    </tr>\n",
       "    <tr>\n",
       "      <th>996</th>\n",
       "      <td>996</td>\n",
       "      <td>997</td>\n",
       "      <td>2022-08-20</td>\n",
       "      <td>Pants</td>\n",
       "      <td>New York</td>\n",
       "      <td>9121</td>\n",
       "      <td>6</td>\n",
       "      <td>0.190660</td>\n",
       "      <td>0.011654</td>\n",
       "      <td>3192.35</td>\n",
       "    </tr>\n",
       "    <tr>\n",
       "      <th>997</th>\n",
       "      <td>997</td>\n",
       "      <td>998</td>\n",
       "      <td>2021-03-09</td>\n",
       "      <td>Shoes</td>\n",
       "      <td>Los Anges</td>\n",
       "      <td>9321</td>\n",
       "      <td>99</td>\n",
       "      <td>0.299502</td>\n",
       "      <td>0.080569</td>\n",
       "      <td>5592.60</td>\n",
       "    </tr>\n",
       "    <tr>\n",
       "      <th>998</th>\n",
       "      <td>998</td>\n",
       "      <td>999</td>\n",
       "      <td>2021-06-13</td>\n",
       "      <td>Compter</td>\n",
       "      <td>Seattle</td>\n",
       "      <td>6379</td>\n",
       "      <td>98</td>\n",
       "      <td>0.180285</td>\n",
       "      <td>0.088348</td>\n",
       "      <td>4784.25</td>\n",
       "    </tr>\n",
       "    <tr>\n",
       "      <th>999</th>\n",
       "      <td>999</td>\n",
       "      <td>1000</td>\n",
       "      <td>2022-01-01</td>\n",
       "      <td>Compter</td>\n",
       "      <td>Dallas</td>\n",
       "      <td>9386</td>\n",
       "      <td>21</td>\n",
       "      <td>0.068297</td>\n",
       "      <td>0.061598</td>\n",
       "      <td>7039.50</td>\n",
       "    </tr>\n",
       "  </tbody>\n",
       "</table>\n",
       "<p>1000 rows × 10 columns</p>\n",
       "</div>"
      ],
      "text/plain": [
       "     Unnamed: 0  customer_id        date  product geolocation  revenue sales  \\\n",
       "0             0            1  2020-10-17    Shirt   Los Anges     1290    16   \n",
       "1             1            2  2022-02-09      Bag    Montreal     4453    12   \n",
       "2             2            3  2021-05-28  Compter   Los Anges     3933    87   \n",
       "3             3            4  2020-12-18    Shirt     Seattle     6160    19   \n",
       "4             4            5  2022-09-16    Dress     Seattle     7513    89   \n",
       "..          ...          ...         ...      ...         ...      ...   ...   \n",
       "995         995          996  2022-06-12      Hat   Los Anges     9857     4   \n",
       "996         996          997  2022-08-20    Pants    New York     9121     6   \n",
       "997         997          998  2021-03-09    Shoes   Los Anges     9321    99   \n",
       "998         998          999  2021-06-13  Compter     Seattle     6379    98   \n",
       "999         999         1000  2022-01-01  Compter      Dallas     9386    21   \n",
       "\n",
       "     discount       tax  cost_of_goods  \n",
       "0    0.070051  0.060433         516.00  \n",
       "1    0.396331  0.087020        1781.20  \n",
       "2    0.354361  0.002370        2949.75  \n",
       "3    0.060434  0.068478        2464.00  \n",
       "4    0.090327  0.013464        3756.50  \n",
       "..        ...       ...            ...  \n",
       "995  0.009385  0.050736        2464.25  \n",
       "996  0.190660  0.011654        3192.35  \n",
       "997  0.299502  0.080569        5592.60  \n",
       "998  0.180285  0.088348        4784.25  \n",
       "999  0.068297  0.061598        7039.50  \n",
       "\n",
       "[1000 rows x 10 columns]"
      ]
     },
     "execution_count": 11,
     "metadata": {},
     "output_type": "execute_result"
    }
   ],
   "source": [
    "sales"
   ]
  },
  {
   "cell_type": "code",
   "execution_count": null,
   "id": "8de37da0-a962-4457-b4f1-512c2a379fa2",
   "metadata": {},
   "outputs": [],
   "source": []
  },
  {
   "cell_type": "markdown",
   "id": "a7844d1c-7eac-4e12-af72-f3574ec56607",
   "metadata": {},
   "source": [
    "#### Data Assessment"
   ]
  },
  {
   "cell_type": "code",
   "execution_count": null,
   "id": "b48b7827-755b-4ec0-9bd6-b76718b1679c",
   "metadata": {},
   "outputs": [],
   "source": [
    "#Checking for null values"
   ]
  },
  {
   "cell_type": "code",
   "execution_count": 12,
   "id": "917503b0-25fa-4384-92ba-38f924a553da",
   "metadata": {},
   "outputs": [
    {
     "data": {
      "text/plain": [
       "Unnamed: 0        0\n",
       "customer_id       0\n",
       "date              0\n",
       "product          20\n",
       "geolocation       6\n",
       "revenue           0\n",
       "sales            50\n",
       "discount          0\n",
       "tax               0\n",
       "cost_of_goods     0\n",
       "dtype: int64"
      ]
     },
     "execution_count": 12,
     "metadata": {},
     "output_type": "execute_result"
    }
   ],
   "source": [
    "sales.isnull().sum() #product'geolocation and sales"
   ]
  },
  {
   "cell_type": "code",
   "execution_count": 13,
   "id": "96a33fa8-beb4-424e-849e-8869e9473f98",
   "metadata": {},
   "outputs": [],
   "source": [
    "sales.fillna('unknown',inplace=True)"
   ]
  },
  {
   "cell_type": "code",
   "execution_count": 14,
   "id": "86e00e0a-70e4-4871-9d5a-c4ac039d608b",
   "metadata": {},
   "outputs": [
    {
     "data": {
      "text/plain": [
       "Unnamed: 0       0\n",
       "customer_id      0\n",
       "date             0\n",
       "product          0\n",
       "geolocation      0\n",
       "revenue          0\n",
       "sales            0\n",
       "discount         0\n",
       "tax              0\n",
       "cost_of_goods    0\n",
       "dtype: int64"
      ]
     },
     "execution_count": 14,
     "metadata": {},
     "output_type": "execute_result"
    }
   ],
   "source": [
    "sales.isnull().sum()"
   ]
  },
  {
   "cell_type": "code",
   "execution_count": null,
   "id": "e16899f9-a424-4e8c-8109-de7944b9aeb8",
   "metadata": {},
   "outputs": [],
   "source": [
    "#checking for duplicates"
   ]
  },
  {
   "cell_type": "code",
   "execution_count": 15,
   "id": "189203f8-2de4-47be-8b5d-3beff5b0a7d2",
   "metadata": {},
   "outputs": [
    {
     "data": {
      "text/plain": [
       "0"
      ]
     },
     "execution_count": 15,
     "metadata": {},
     "output_type": "execute_result"
    }
   ],
   "source": [
    "sales.duplicated().sum()"
   ]
  },
  {
   "cell_type": "code",
   "execution_count": null,
   "id": "44dd0e34-de46-45e8-86d2-597fc06e358b",
   "metadata": {},
   "outputs": [],
   "source": [
    "#checking for incorrect data types"
   ]
  },
  {
   "cell_type": "code",
   "execution_count": 18,
   "id": "f16a2706-9c65-497d-a211-b50270fb37bc",
   "metadata": {},
   "outputs": [
    {
     "name": "stdout",
     "output_type": "stream",
     "text": [
      "<class 'pandas.core.frame.DataFrame'>\n",
      "RangeIndex: 1000 entries, 0 to 999\n",
      "Data columns (total 10 columns):\n",
      " #   Column         Non-Null Count  Dtype  \n",
      "---  ------         --------------  -----  \n",
      " 0   Unnamed: 0     1000 non-null   int64  \n",
      " 1   customer_id    1000 non-null   int64  \n",
      " 2   date           1000 non-null   object \n",
      " 3   product        1000 non-null   object \n",
      " 4   geolocation    1000 non-null   object \n",
      " 5   revenue        1000 non-null   int64  \n",
      " 6   sales          1000 non-null   object \n",
      " 7   discount       1000 non-null   float64\n",
      " 8   tax            1000 non-null   float64\n",
      " 9   cost_of_goods  1000 non-null   float64\n",
      "dtypes: float64(3), int64(3), object(4)\n",
      "memory usage: 78.3+ KB\n"
     ]
    }
   ],
   "source": [
    "sales.info()"
   ]
  },
  {
   "cell_type": "code",
   "execution_count": null,
   "id": "4fafcef0-174e-4f8d-9b13-f336b43929c7",
   "metadata": {},
   "outputs": [],
   "source": [
    "#incorrect datatypes colums:Date and sales columns"
   ]
  },
  {
   "cell_type": "code",
   "execution_count": 35,
   "id": "3543b622-0f9d-4e2b-8579-6f81b2aa7cc4",
   "metadata": {},
   "outputs": [
    {
     "name": "stderr",
     "output_type": "stream",
     "text": [
      "<>:1: SyntaxWarning: invalid escape sequence '\\D'\n",
      "<>:1: SyntaxWarning: invalid escape sequence '\\D'\n",
      "C:\\Users\\kramo\\AppData\\Local\\Temp\\ipykernel_11156\\3027818675.py:1: SyntaxWarning: invalid escape sequence '\\D'\n",
      "  sales['sales'].str.contains('\\D')\n"
     ]
    },
    {
     "data": {
      "text/plain": [
       "0      False\n",
       "1      False\n",
       "2      False\n",
       "3      False\n",
       "4      False\n",
       "       ...  \n",
       "995    False\n",
       "996    False\n",
       "997    False\n",
       "998    False\n",
       "999    False\n",
       "Name: sales, Length: 1000, dtype: bool"
      ]
     },
     "execution_count": 35,
     "metadata": {},
     "output_type": "execute_result"
    }
   ],
   "source": [
    "sales['sales'].str.contains('\\D')"
   ]
  },
  {
   "cell_type": "code",
   "execution_count": 61,
   "id": "e4febc41-89e9-4db7-b206-ef8ff9b71f9d",
   "metadata": {},
   "outputs": [
    {
     "name": "stderr",
     "output_type": "stream",
     "text": [
      "<>:1: SyntaxWarning: invalid escape sequence '\\D'\n",
      "<>:1: SyntaxWarning: invalid escape sequence '\\D'\n",
      "C:\\Users\\kramo\\AppData\\Local\\Temp\\ipykernel_11156\\273628790.py:1: SyntaxWarning: invalid escape sequence '\\D'\n",
      "  sales['sales'].str.contains('\\D').sum()\n",
      "C:\\Users\\kramo\\AppData\\Local\\Temp\\ipykernel_11156\\273628790.py:1: SyntaxWarning: invalid escape sequence '\\D'\n",
      "  sales['sales'].str.contains('\\D').sum()\n"
     ]
    },
    {
     "ename": "AttributeError",
     "evalue": "Can only use .str accessor with string values!",
     "output_type": "error",
     "traceback": [
      "\u001b[1;31m---------------------------------------------------------------------------\u001b[0m",
      "\u001b[1;31mAttributeError\u001b[0m                            Traceback (most recent call last)",
      "Cell \u001b[1;32mIn[61], line 1\u001b[0m\n\u001b[1;32m----> 1\u001b[0m sales[\u001b[38;5;124m'\u001b[39m\u001b[38;5;124msales\u001b[39m\u001b[38;5;124m'\u001b[39m]\u001b[38;5;241m.\u001b[39mstr\u001b[38;5;241m.\u001b[39mcontains(\u001b[38;5;124m'\u001b[39m\u001b[38;5;124m\\\u001b[39m\u001b[38;5;124mD\u001b[39m\u001b[38;5;124m'\u001b[39m)\u001b[38;5;241m.\u001b[39msum()\n",
      "File \u001b[1;32m~\\anaconda3\\Anaconda Navigator\\Lib\\site-packages\\pandas\\core\\generic.py:6299\u001b[0m, in \u001b[0;36mNDFrame.__getattr__\u001b[1;34m(self, name)\u001b[0m\n\u001b[0;32m   6292\u001b[0m \u001b[38;5;28;01mif\u001b[39;00m (\n\u001b[0;32m   6293\u001b[0m     name \u001b[38;5;129;01mnot\u001b[39;00m \u001b[38;5;129;01min\u001b[39;00m \u001b[38;5;28mself\u001b[39m\u001b[38;5;241m.\u001b[39m_internal_names_set\n\u001b[0;32m   6294\u001b[0m     \u001b[38;5;129;01mand\u001b[39;00m name \u001b[38;5;129;01mnot\u001b[39;00m \u001b[38;5;129;01min\u001b[39;00m \u001b[38;5;28mself\u001b[39m\u001b[38;5;241m.\u001b[39m_metadata\n\u001b[0;32m   6295\u001b[0m     \u001b[38;5;129;01mand\u001b[39;00m name \u001b[38;5;129;01mnot\u001b[39;00m \u001b[38;5;129;01min\u001b[39;00m \u001b[38;5;28mself\u001b[39m\u001b[38;5;241m.\u001b[39m_accessors\n\u001b[0;32m   6296\u001b[0m     \u001b[38;5;129;01mand\u001b[39;00m \u001b[38;5;28mself\u001b[39m\u001b[38;5;241m.\u001b[39m_info_axis\u001b[38;5;241m.\u001b[39m_can_hold_identifiers_and_holds_name(name)\n\u001b[0;32m   6297\u001b[0m ):\n\u001b[0;32m   6298\u001b[0m     \u001b[38;5;28;01mreturn\u001b[39;00m \u001b[38;5;28mself\u001b[39m[name]\n\u001b[1;32m-> 6299\u001b[0m \u001b[38;5;28;01mreturn\u001b[39;00m \u001b[38;5;28mobject\u001b[39m\u001b[38;5;241m.\u001b[39m\u001b[38;5;21m__getattribute__\u001b[39m(\u001b[38;5;28mself\u001b[39m, name)\n",
      "File \u001b[1;32m~\\anaconda3\\Anaconda Navigator\\Lib\\site-packages\\pandas\\core\\accessor.py:224\u001b[0m, in \u001b[0;36mCachedAccessor.__get__\u001b[1;34m(self, obj, cls)\u001b[0m\n\u001b[0;32m    221\u001b[0m \u001b[38;5;28;01mif\u001b[39;00m obj \u001b[38;5;129;01mis\u001b[39;00m \u001b[38;5;28;01mNone\u001b[39;00m:\n\u001b[0;32m    222\u001b[0m     \u001b[38;5;66;03m# we're accessing the attribute of the class, i.e., Dataset.geo\u001b[39;00m\n\u001b[0;32m    223\u001b[0m     \u001b[38;5;28;01mreturn\u001b[39;00m \u001b[38;5;28mself\u001b[39m\u001b[38;5;241m.\u001b[39m_accessor\n\u001b[1;32m--> 224\u001b[0m accessor_obj \u001b[38;5;241m=\u001b[39m \u001b[38;5;28mself\u001b[39m\u001b[38;5;241m.\u001b[39m_accessor(obj)\n\u001b[0;32m    225\u001b[0m \u001b[38;5;66;03m# Replace the property with the accessor object. Inspired by:\u001b[39;00m\n\u001b[0;32m    226\u001b[0m \u001b[38;5;66;03m# https://www.pydanny.com/cached-property.html\u001b[39;00m\n\u001b[0;32m    227\u001b[0m \u001b[38;5;66;03m# We need to use object.__setattr__ because we overwrite __setattr__ on\u001b[39;00m\n\u001b[0;32m    228\u001b[0m \u001b[38;5;66;03m# NDFrame\u001b[39;00m\n\u001b[0;32m    229\u001b[0m \u001b[38;5;28mobject\u001b[39m\u001b[38;5;241m.\u001b[39m\u001b[38;5;21m__setattr__\u001b[39m(obj, \u001b[38;5;28mself\u001b[39m\u001b[38;5;241m.\u001b[39m_name, accessor_obj)\n",
      "File \u001b[1;32m~\\anaconda3\\Anaconda Navigator\\Lib\\site-packages\\pandas\\core\\strings\\accessor.py:191\u001b[0m, in \u001b[0;36mStringMethods.__init__\u001b[1;34m(self, data)\u001b[0m\n\u001b[0;32m    188\u001b[0m \u001b[38;5;28;01mdef\u001b[39;00m \u001b[38;5;21m__init__\u001b[39m(\u001b[38;5;28mself\u001b[39m, data) \u001b[38;5;241m-\u001b[39m\u001b[38;5;241m>\u001b[39m \u001b[38;5;28;01mNone\u001b[39;00m:\n\u001b[0;32m    189\u001b[0m     \u001b[38;5;28;01mfrom\u001b[39;00m \u001b[38;5;21;01mpandas\u001b[39;00m\u001b[38;5;21;01m.\u001b[39;00m\u001b[38;5;21;01mcore\u001b[39;00m\u001b[38;5;21;01m.\u001b[39;00m\u001b[38;5;21;01marrays\u001b[39;00m\u001b[38;5;21;01m.\u001b[39;00m\u001b[38;5;21;01mstring_\u001b[39;00m \u001b[38;5;28;01mimport\u001b[39;00m StringDtype\n\u001b[1;32m--> 191\u001b[0m     \u001b[38;5;28mself\u001b[39m\u001b[38;5;241m.\u001b[39m_inferred_dtype \u001b[38;5;241m=\u001b[39m \u001b[38;5;28mself\u001b[39m\u001b[38;5;241m.\u001b[39m_validate(data)\n\u001b[0;32m    192\u001b[0m     \u001b[38;5;28mself\u001b[39m\u001b[38;5;241m.\u001b[39m_is_categorical \u001b[38;5;241m=\u001b[39m \u001b[38;5;28misinstance\u001b[39m(data\u001b[38;5;241m.\u001b[39mdtype, CategoricalDtype)\n\u001b[0;32m    193\u001b[0m     \u001b[38;5;28mself\u001b[39m\u001b[38;5;241m.\u001b[39m_is_string \u001b[38;5;241m=\u001b[39m \u001b[38;5;28misinstance\u001b[39m(data\u001b[38;5;241m.\u001b[39mdtype, StringDtype)\n",
      "File \u001b[1;32m~\\anaconda3\\Anaconda Navigator\\Lib\\site-packages\\pandas\\core\\strings\\accessor.py:245\u001b[0m, in \u001b[0;36mStringMethods._validate\u001b[1;34m(data)\u001b[0m\n\u001b[0;32m    242\u001b[0m inferred_dtype \u001b[38;5;241m=\u001b[39m lib\u001b[38;5;241m.\u001b[39minfer_dtype(values, skipna\u001b[38;5;241m=\u001b[39m\u001b[38;5;28;01mTrue\u001b[39;00m)\n\u001b[0;32m    244\u001b[0m \u001b[38;5;28;01mif\u001b[39;00m inferred_dtype \u001b[38;5;129;01mnot\u001b[39;00m \u001b[38;5;129;01min\u001b[39;00m allowed_types:\n\u001b[1;32m--> 245\u001b[0m     \u001b[38;5;28;01mraise\u001b[39;00m \u001b[38;5;167;01mAttributeError\u001b[39;00m(\u001b[38;5;124m\"\u001b[39m\u001b[38;5;124mCan only use .str accessor with string values!\u001b[39m\u001b[38;5;124m\"\u001b[39m)\n\u001b[0;32m    246\u001b[0m \u001b[38;5;28;01mreturn\u001b[39;00m inferred_dtype\n",
      "\u001b[1;31mAttributeError\u001b[0m: Can only use .str accessor with string values!"
     ]
    }
   ],
   "source": [
    "sales['sales'].str.contains('\\D').sum()"
   ]
  },
  {
   "cell_type": "code",
   "execution_count": 65,
   "id": "1eeac0c7-1203-45fc-9bea-5d1647bec688",
   "metadata": {},
   "outputs": [
    {
     "data": {
      "text/plain": [
       "0      50.2\n",
       "1      50.2\n",
       "2      50.2\n",
       "3      50.2\n",
       "4      50.2\n",
       "       ... \n",
       "995    50.2\n",
       "996    50.2\n",
       "997    50.2\n",
       "998    50.2\n",
       "999    50.2\n",
       "Name: sales, Length: 1000, dtype: float64"
      ]
     },
     "execution_count": 65,
     "metadata": {},
     "output_type": "execute_result"
    }
   ],
   "source": [
    "pd.to_numeric(sales['sales'],errors='coerce')"
   ]
  },
  {
   "cell_type": "code",
   "execution_count": null,
   "id": "15df2692-4ea9-443f-b16c-b9e00d2b3ca9",
   "metadata": {},
   "outputs": [],
   "source": []
  },
  {
   "cell_type": "code",
   "execution_count": 42,
   "id": "1915957d-f74c-4b55-8ac5-73dfb4e2b6b4",
   "metadata": {},
   "outputs": [],
   "source": [
    "sales['sales']=pd.to_numeric(sales['sales'],errors='coerce')"
   ]
  },
  {
   "cell_type": "code",
   "execution_count": 47,
   "id": "273ffb6a-35d6-45e6-8ff3-2df52e3e7068",
   "metadata": {},
   "outputs": [
    {
     "data": {
      "text/plain": [
       "50.2"
      ]
     },
     "execution_count": 47,
     "metadata": {},
     "output_type": "execute_result"
    }
   ],
   "source": [
    "sales['sales'].mean().round(1)"
   ]
  },
  {
   "cell_type": "code",
   "execution_count": 62,
   "id": "de7d8a4f-0626-44ba-b733-3e99cf26f507",
   "metadata": {},
   "outputs": [
    {
     "data": {
      "text/plain": [
       "50.20000000000001"
      ]
     },
     "execution_count": 62,
     "metadata": {},
     "output_type": "execute_result"
    }
   ],
   "source": [
    "sales['sales'].mean()"
   ]
  },
  {
   "cell_type": "code",
   "execution_count": 48,
   "id": "08f9734b-0c4c-4b1c-ba8e-71b597157bea",
   "metadata": {},
   "outputs": [
    {
     "name": "stderr",
     "output_type": "stream",
     "text": [
      "C:\\Users\\kramo\\AppData\\Local\\Temp\\ipykernel_11156\\2258710611.py:1: FutureWarning: A value is trying to be set on a copy of a DataFrame or Series through chained assignment using an inplace method.\n",
      "The behavior will change in pandas 3.0. This inplace method will never work because the intermediate object on which we are setting values always behaves as a copy.\n",
      "\n",
      "For example, when doing 'df[col].method(value, inplace=True)', try using 'df.method({col: value}, inplace=True)' or df[col] = df[col].method(value) instead, to perform the operation inplace on the original object.\n",
      "\n",
      "\n",
      "  sales['sales'].fillna(sales['sales'].mean().round(1),inplace=True)\n"
     ]
    }
   ],
   "source": [
    "sales['sales'].fillna(sales['sales'].mean().round(1),inplace=True)"
   ]
  },
  {
   "cell_type": "code",
   "execution_count": 49,
   "id": "125d6b1e-d5aa-42c7-8ceb-64150ab471b3",
   "metadata": {},
   "outputs": [
    {
     "data": {
      "text/plain": [
       "dtype('float64')"
      ]
     },
     "execution_count": 49,
     "metadata": {},
     "output_type": "execute_result"
    }
   ],
   "source": [
    "sales['sales'].dtype"
   ]
  },
  {
   "cell_type": "code",
   "execution_count": 55,
   "id": "727d016f-38da-4aa3-a2fe-fe621c8e5b2e",
   "metadata": {},
   "outputs": [],
   "source": []
  },
  {
   "cell_type": "code",
   "execution_count": 58,
   "id": "ca5a1da1-1a61-41de-82ec-7aa49a5ed2a3",
   "metadata": {},
   "outputs": [
    {
     "name": "stdout",
     "output_type": "stream",
     "text": [
      "<class 'pandas.core.frame.DataFrame'>\n",
      "RangeIndex: 1000 entries, 0 to 999\n",
      "Data columns (total 10 columns):\n",
      " #   Column         Non-Null Count  Dtype         \n",
      "---  ------         --------------  -----         \n",
      " 0   Unnamed: 0     1000 non-null   int64         \n",
      " 1   customer_id    1000 non-null   int64         \n",
      " 2   date           1000 non-null   datetime64[ns]\n",
      " 3   product        1000 non-null   object        \n",
      " 4   geolocation    1000 non-null   object        \n",
      " 5   revenue        1000 non-null   int64         \n",
      " 6   sales          1000 non-null   float64       \n",
      " 7   discount       1000 non-null   float64       \n",
      " 8   tax            1000 non-null   float64       \n",
      " 9   cost_of_goods  1000 non-null   float64       \n",
      "dtypes: datetime64[ns](1), float64(4), int64(3), object(2)\n",
      "memory usage: 78.3+ KB\n"
     ]
    }
   ],
   "source": [
    "sales.info()"
   ]
  },
  {
   "cell_type": "code",
   "execution_count": 59,
   "id": "10266c03-9295-48de-b174-54240b0ddd73",
   "metadata": {},
   "outputs": [
    {
     "data": {
      "text/html": [
       "<div>\n",
       "<style scoped>\n",
       "    .dataframe tbody tr th:only-of-type {\n",
       "        vertical-align: middle;\n",
       "    }\n",
       "\n",
       "    .dataframe tbody tr th {\n",
       "        vertical-align: top;\n",
       "    }\n",
       "\n",
       "    .dataframe thead th {\n",
       "        text-align: right;\n",
       "    }\n",
       "</style>\n",
       "<table border=\"1\" class=\"dataframe\">\n",
       "  <thead>\n",
       "    <tr style=\"text-align: right;\">\n",
       "      <th></th>\n",
       "      <th>Unnamed: 0</th>\n",
       "      <th>customer_id</th>\n",
       "      <th>date</th>\n",
       "      <th>product</th>\n",
       "      <th>geolocation</th>\n",
       "      <th>revenue</th>\n",
       "      <th>sales</th>\n",
       "      <th>discount</th>\n",
       "      <th>tax</th>\n",
       "      <th>cost_of_goods</th>\n",
       "    </tr>\n",
       "  </thead>\n",
       "  <tbody>\n",
       "    <tr>\n",
       "      <th>0</th>\n",
       "      <td>0</td>\n",
       "      <td>1</td>\n",
       "      <td>2020-10-17</td>\n",
       "      <td>Shirt</td>\n",
       "      <td>Los Anges</td>\n",
       "      <td>1290</td>\n",
       "      <td>50.2</td>\n",
       "      <td>0.070051</td>\n",
       "      <td>0.060433</td>\n",
       "      <td>516.00</td>\n",
       "    </tr>\n",
       "    <tr>\n",
       "      <th>1</th>\n",
       "      <td>1</td>\n",
       "      <td>2</td>\n",
       "      <td>2022-02-09</td>\n",
       "      <td>Bag</td>\n",
       "      <td>Montreal</td>\n",
       "      <td>4453</td>\n",
       "      <td>50.2</td>\n",
       "      <td>0.396331</td>\n",
       "      <td>0.087020</td>\n",
       "      <td>1781.20</td>\n",
       "    </tr>\n",
       "    <tr>\n",
       "      <th>2</th>\n",
       "      <td>2</td>\n",
       "      <td>3</td>\n",
       "      <td>2021-05-28</td>\n",
       "      <td>Compter</td>\n",
       "      <td>Los Anges</td>\n",
       "      <td>3933</td>\n",
       "      <td>50.2</td>\n",
       "      <td>0.354361</td>\n",
       "      <td>0.002370</td>\n",
       "      <td>2949.75</td>\n",
       "    </tr>\n",
       "    <tr>\n",
       "      <th>3</th>\n",
       "      <td>3</td>\n",
       "      <td>4</td>\n",
       "      <td>2020-12-18</td>\n",
       "      <td>Shirt</td>\n",
       "      <td>Seattle</td>\n",
       "      <td>6160</td>\n",
       "      <td>50.2</td>\n",
       "      <td>0.060434</td>\n",
       "      <td>0.068478</td>\n",
       "      <td>2464.00</td>\n",
       "    </tr>\n",
       "    <tr>\n",
       "      <th>4</th>\n",
       "      <td>4</td>\n",
       "      <td>5</td>\n",
       "      <td>2022-09-16</td>\n",
       "      <td>Dress</td>\n",
       "      <td>Seattle</td>\n",
       "      <td>7513</td>\n",
       "      <td>50.2</td>\n",
       "      <td>0.090327</td>\n",
       "      <td>0.013464</td>\n",
       "      <td>3756.50</td>\n",
       "    </tr>\n",
       "    <tr>\n",
       "      <th>...</th>\n",
       "      <td>...</td>\n",
       "      <td>...</td>\n",
       "      <td>...</td>\n",
       "      <td>...</td>\n",
       "      <td>...</td>\n",
       "      <td>...</td>\n",
       "      <td>...</td>\n",
       "      <td>...</td>\n",
       "      <td>...</td>\n",
       "      <td>...</td>\n",
       "    </tr>\n",
       "    <tr>\n",
       "      <th>995</th>\n",
       "      <td>995</td>\n",
       "      <td>996</td>\n",
       "      <td>2022-06-12</td>\n",
       "      <td>Hat</td>\n",
       "      <td>Los Anges</td>\n",
       "      <td>9857</td>\n",
       "      <td>50.2</td>\n",
       "      <td>0.009385</td>\n",
       "      <td>0.050736</td>\n",
       "      <td>2464.25</td>\n",
       "    </tr>\n",
       "    <tr>\n",
       "      <th>996</th>\n",
       "      <td>996</td>\n",
       "      <td>997</td>\n",
       "      <td>2022-08-20</td>\n",
       "      <td>Pants</td>\n",
       "      <td>New York</td>\n",
       "      <td>9121</td>\n",
       "      <td>50.2</td>\n",
       "      <td>0.190660</td>\n",
       "      <td>0.011654</td>\n",
       "      <td>3192.35</td>\n",
       "    </tr>\n",
       "    <tr>\n",
       "      <th>997</th>\n",
       "      <td>997</td>\n",
       "      <td>998</td>\n",
       "      <td>2021-03-09</td>\n",
       "      <td>Shoes</td>\n",
       "      <td>Los Anges</td>\n",
       "      <td>9321</td>\n",
       "      <td>50.2</td>\n",
       "      <td>0.299502</td>\n",
       "      <td>0.080569</td>\n",
       "      <td>5592.60</td>\n",
       "    </tr>\n",
       "    <tr>\n",
       "      <th>998</th>\n",
       "      <td>998</td>\n",
       "      <td>999</td>\n",
       "      <td>2021-06-13</td>\n",
       "      <td>Compter</td>\n",
       "      <td>Seattle</td>\n",
       "      <td>6379</td>\n",
       "      <td>50.2</td>\n",
       "      <td>0.180285</td>\n",
       "      <td>0.088348</td>\n",
       "      <td>4784.25</td>\n",
       "    </tr>\n",
       "    <tr>\n",
       "      <th>999</th>\n",
       "      <td>999</td>\n",
       "      <td>1000</td>\n",
       "      <td>2022-01-01</td>\n",
       "      <td>Compter</td>\n",
       "      <td>Dallas</td>\n",
       "      <td>9386</td>\n",
       "      <td>50.2</td>\n",
       "      <td>0.068297</td>\n",
       "      <td>0.061598</td>\n",
       "      <td>7039.50</td>\n",
       "    </tr>\n",
       "  </tbody>\n",
       "</table>\n",
       "<p>1000 rows × 10 columns</p>\n",
       "</div>"
      ],
      "text/plain": [
       "     Unnamed: 0  customer_id       date  product geolocation  revenue  sales  \\\n",
       "0             0            1 2020-10-17    Shirt   Los Anges     1290   50.2   \n",
       "1             1            2 2022-02-09      Bag    Montreal     4453   50.2   \n",
       "2             2            3 2021-05-28  Compter   Los Anges     3933   50.2   \n",
       "3             3            4 2020-12-18    Shirt     Seattle     6160   50.2   \n",
       "4             4            5 2022-09-16    Dress     Seattle     7513   50.2   \n",
       "..          ...          ...        ...      ...         ...      ...    ...   \n",
       "995         995          996 2022-06-12      Hat   Los Anges     9857   50.2   \n",
       "996         996          997 2022-08-20    Pants    New York     9121   50.2   \n",
       "997         997          998 2021-03-09    Shoes   Los Anges     9321   50.2   \n",
       "998         998          999 2021-06-13  Compter     Seattle     6379   50.2   \n",
       "999         999         1000 2022-01-01  Compter      Dallas     9386   50.2   \n",
       "\n",
       "     discount       tax  cost_of_goods  \n",
       "0    0.070051  0.060433         516.00  \n",
       "1    0.396331  0.087020        1781.20  \n",
       "2    0.354361  0.002370        2949.75  \n",
       "3    0.060434  0.068478        2464.00  \n",
       "4    0.090327  0.013464        3756.50  \n",
       "..        ...       ...            ...  \n",
       "995  0.009385  0.050736        2464.25  \n",
       "996  0.190660  0.011654        3192.35  \n",
       "997  0.299502  0.080569        5592.60  \n",
       "998  0.180285  0.088348        4784.25  \n",
       "999  0.068297  0.061598        7039.50  \n",
       "\n",
       "[1000 rows x 10 columns]"
      ]
     },
     "execution_count": 59,
     "metadata": {},
     "output_type": "execute_result"
    }
   ],
   "source": [
    "sales"
   ]
  },
  {
   "cell_type": "code",
   "execution_count": 60,
   "id": "a1c5ca02-41a6-4b88-b2f5-cecfb3af3ee9",
   "metadata": {},
   "outputs": [
    {
     "data": {
      "text/html": [
       "<div>\n",
       "<style scoped>\n",
       "    .dataframe tbody tr th:only-of-type {\n",
       "        vertical-align: middle;\n",
       "    }\n",
       "\n",
       "    .dataframe tbody tr th {\n",
       "        vertical-align: top;\n",
       "    }\n",
       "\n",
       "    .dataframe thead th {\n",
       "        text-align: right;\n",
       "    }\n",
       "</style>\n",
       "<table border=\"1\" class=\"dataframe\">\n",
       "  <thead>\n",
       "    <tr style=\"text-align: right;\">\n",
       "      <th></th>\n",
       "      <th>Unnamed: 0</th>\n",
       "      <th>customer_id</th>\n",
       "      <th>date</th>\n",
       "      <th>product</th>\n",
       "      <th>geolocation</th>\n",
       "      <th>revenue</th>\n",
       "      <th>sales</th>\n",
       "      <th>discount</th>\n",
       "      <th>tax</th>\n",
       "      <th>cost_of_goods</th>\n",
       "    </tr>\n",
       "  </thead>\n",
       "  <tbody>\n",
       "    <tr>\n",
       "      <th>0</th>\n",
       "      <td>0</td>\n",
       "      <td>1</td>\n",
       "      <td>2020-10-17</td>\n",
       "      <td>Shirt</td>\n",
       "      <td>Los Anges</td>\n",
       "      <td>1290</td>\n",
       "      <td>50.2</td>\n",
       "      <td>0.070051</td>\n",
       "      <td>0.060433</td>\n",
       "      <td>516.00</td>\n",
       "    </tr>\n",
       "    <tr>\n",
       "      <th>1</th>\n",
       "      <td>1</td>\n",
       "      <td>2</td>\n",
       "      <td>2022-02-09</td>\n",
       "      <td>Bag</td>\n",
       "      <td>Montreal</td>\n",
       "      <td>4453</td>\n",
       "      <td>50.2</td>\n",
       "      <td>0.396331</td>\n",
       "      <td>0.087020</td>\n",
       "      <td>1781.20</td>\n",
       "    </tr>\n",
       "    <tr>\n",
       "      <th>2</th>\n",
       "      <td>2</td>\n",
       "      <td>3</td>\n",
       "      <td>2021-05-28</td>\n",
       "      <td>Compter</td>\n",
       "      <td>Los Anges</td>\n",
       "      <td>3933</td>\n",
       "      <td>50.2</td>\n",
       "      <td>0.354361</td>\n",
       "      <td>0.002370</td>\n",
       "      <td>2949.75</td>\n",
       "    </tr>\n",
       "    <tr>\n",
       "      <th>3</th>\n",
       "      <td>3</td>\n",
       "      <td>4</td>\n",
       "      <td>2020-12-18</td>\n",
       "      <td>Shirt</td>\n",
       "      <td>Seattle</td>\n",
       "      <td>6160</td>\n",
       "      <td>50.2</td>\n",
       "      <td>0.060434</td>\n",
       "      <td>0.068478</td>\n",
       "      <td>2464.00</td>\n",
       "    </tr>\n",
       "    <tr>\n",
       "      <th>4</th>\n",
       "      <td>4</td>\n",
       "      <td>5</td>\n",
       "      <td>2022-09-16</td>\n",
       "      <td>Dress</td>\n",
       "      <td>Seattle</td>\n",
       "      <td>7513</td>\n",
       "      <td>50.2</td>\n",
       "      <td>0.090327</td>\n",
       "      <td>0.013464</td>\n",
       "      <td>3756.50</td>\n",
       "    </tr>\n",
       "  </tbody>\n",
       "</table>\n",
       "</div>"
      ],
      "text/plain": [
       "   Unnamed: 0  customer_id       date  product geolocation  revenue  sales  \\\n",
       "0           0            1 2020-10-17    Shirt   Los Anges     1290   50.2   \n",
       "1           1            2 2022-02-09      Bag    Montreal     4453   50.2   \n",
       "2           2            3 2021-05-28  Compter   Los Anges     3933   50.2   \n",
       "3           3            4 2020-12-18    Shirt     Seattle     6160   50.2   \n",
       "4           4            5 2022-09-16    Dress     Seattle     7513   50.2   \n",
       "\n",
       "   discount       tax  cost_of_goods  \n",
       "0  0.070051  0.060433         516.00  \n",
       "1  0.396331  0.087020        1781.20  \n",
       "2  0.354361  0.002370        2949.75  \n",
       "3  0.060434  0.068478        2464.00  \n",
       "4  0.090327  0.013464        3756.50  "
      ]
     },
     "execution_count": 60,
     "metadata": {},
     "output_type": "execute_result"
    }
   ],
   "source": [
    "sales.head()"
   ]
  },
  {
   "cell_type": "code",
   "execution_count": 63,
   "id": "a8eff175-9426-429e-b949-489b7e585c2b",
   "metadata": {},
   "outputs": [
    {
     "data": {
      "text/html": [
       "<div>\n",
       "<style scoped>\n",
       "    .dataframe tbody tr th:only-of-type {\n",
       "        vertical-align: middle;\n",
       "    }\n",
       "\n",
       "    .dataframe tbody tr th {\n",
       "        vertical-align: top;\n",
       "    }\n",
       "\n",
       "    .dataframe thead th {\n",
       "        text-align: right;\n",
       "    }\n",
       "</style>\n",
       "<table border=\"1\" class=\"dataframe\">\n",
       "  <thead>\n",
       "    <tr style=\"text-align: right;\">\n",
       "      <th></th>\n",
       "      <th>Unnamed: 0</th>\n",
       "      <th>customer_id</th>\n",
       "      <th>date</th>\n",
       "      <th>product</th>\n",
       "      <th>geolocation</th>\n",
       "      <th>revenue</th>\n",
       "      <th>sales</th>\n",
       "      <th>discount</th>\n",
       "      <th>tax</th>\n",
       "      <th>cost_of_goods</th>\n",
       "    </tr>\n",
       "  </thead>\n",
       "  <tbody>\n",
       "    <tr>\n",
       "      <th>0</th>\n",
       "      <td>0</td>\n",
       "      <td>1</td>\n",
       "      <td>2020-10-17</td>\n",
       "      <td>Shirt</td>\n",
       "      <td>Los Anges</td>\n",
       "      <td>1290</td>\n",
       "      <td>50.2</td>\n",
       "      <td>0.070051</td>\n",
       "      <td>0.060433</td>\n",
       "      <td>516.00</td>\n",
       "    </tr>\n",
       "    <tr>\n",
       "      <th>1</th>\n",
       "      <td>1</td>\n",
       "      <td>2</td>\n",
       "      <td>2022-02-09</td>\n",
       "      <td>Bag</td>\n",
       "      <td>Montreal</td>\n",
       "      <td>4453</td>\n",
       "      <td>50.2</td>\n",
       "      <td>0.396331</td>\n",
       "      <td>0.087020</td>\n",
       "      <td>1781.20</td>\n",
       "    </tr>\n",
       "    <tr>\n",
       "      <th>2</th>\n",
       "      <td>2</td>\n",
       "      <td>3</td>\n",
       "      <td>2021-05-28</td>\n",
       "      <td>Compter</td>\n",
       "      <td>Los Anges</td>\n",
       "      <td>3933</td>\n",
       "      <td>50.2</td>\n",
       "      <td>0.354361</td>\n",
       "      <td>0.002370</td>\n",
       "      <td>2949.75</td>\n",
       "    </tr>\n",
       "    <tr>\n",
       "      <th>3</th>\n",
       "      <td>3</td>\n",
       "      <td>4</td>\n",
       "      <td>2020-12-18</td>\n",
       "      <td>Shirt</td>\n",
       "      <td>Seattle</td>\n",
       "      <td>6160</td>\n",
       "      <td>50.2</td>\n",
       "      <td>0.060434</td>\n",
       "      <td>0.068478</td>\n",
       "      <td>2464.00</td>\n",
       "    </tr>\n",
       "    <tr>\n",
       "      <th>4</th>\n",
       "      <td>4</td>\n",
       "      <td>5</td>\n",
       "      <td>2022-09-16</td>\n",
       "      <td>Dress</td>\n",
       "      <td>Seattle</td>\n",
       "      <td>7513</td>\n",
       "      <td>50.2</td>\n",
       "      <td>0.090327</td>\n",
       "      <td>0.013464</td>\n",
       "      <td>3756.50</td>\n",
       "    </tr>\n",
       "    <tr>\n",
       "      <th>...</th>\n",
       "      <td>...</td>\n",
       "      <td>...</td>\n",
       "      <td>...</td>\n",
       "      <td>...</td>\n",
       "      <td>...</td>\n",
       "      <td>...</td>\n",
       "      <td>...</td>\n",
       "      <td>...</td>\n",
       "      <td>...</td>\n",
       "      <td>...</td>\n",
       "    </tr>\n",
       "    <tr>\n",
       "      <th>995</th>\n",
       "      <td>995</td>\n",
       "      <td>996</td>\n",
       "      <td>2022-06-12</td>\n",
       "      <td>Hat</td>\n",
       "      <td>Los Anges</td>\n",
       "      <td>9857</td>\n",
       "      <td>50.2</td>\n",
       "      <td>0.009385</td>\n",
       "      <td>0.050736</td>\n",
       "      <td>2464.25</td>\n",
       "    </tr>\n",
       "    <tr>\n",
       "      <th>996</th>\n",
       "      <td>996</td>\n",
       "      <td>997</td>\n",
       "      <td>2022-08-20</td>\n",
       "      <td>Pants</td>\n",
       "      <td>New York</td>\n",
       "      <td>9121</td>\n",
       "      <td>50.2</td>\n",
       "      <td>0.190660</td>\n",
       "      <td>0.011654</td>\n",
       "      <td>3192.35</td>\n",
       "    </tr>\n",
       "    <tr>\n",
       "      <th>997</th>\n",
       "      <td>997</td>\n",
       "      <td>998</td>\n",
       "      <td>2021-03-09</td>\n",
       "      <td>Shoes</td>\n",
       "      <td>Los Anges</td>\n",
       "      <td>9321</td>\n",
       "      <td>50.2</td>\n",
       "      <td>0.299502</td>\n",
       "      <td>0.080569</td>\n",
       "      <td>5592.60</td>\n",
       "    </tr>\n",
       "    <tr>\n",
       "      <th>998</th>\n",
       "      <td>998</td>\n",
       "      <td>999</td>\n",
       "      <td>2021-06-13</td>\n",
       "      <td>Compter</td>\n",
       "      <td>Seattle</td>\n",
       "      <td>6379</td>\n",
       "      <td>50.2</td>\n",
       "      <td>0.180285</td>\n",
       "      <td>0.088348</td>\n",
       "      <td>4784.25</td>\n",
       "    </tr>\n",
       "    <tr>\n",
       "      <th>999</th>\n",
       "      <td>999</td>\n",
       "      <td>1000</td>\n",
       "      <td>2022-01-01</td>\n",
       "      <td>Compter</td>\n",
       "      <td>Dallas</td>\n",
       "      <td>9386</td>\n",
       "      <td>50.2</td>\n",
       "      <td>0.068297</td>\n",
       "      <td>0.061598</td>\n",
       "      <td>7039.50</td>\n",
       "    </tr>\n",
       "  </tbody>\n",
       "</table>\n",
       "<p>1000 rows × 10 columns</p>\n",
       "</div>"
      ],
      "text/plain": [
       "     Unnamed: 0  customer_id       date  product geolocation  revenue  sales  \\\n",
       "0             0            1 2020-10-17    Shirt   Los Anges     1290   50.2   \n",
       "1             1            2 2022-02-09      Bag    Montreal     4453   50.2   \n",
       "2             2            3 2021-05-28  Compter   Los Anges     3933   50.2   \n",
       "3             3            4 2020-12-18    Shirt     Seattle     6160   50.2   \n",
       "4             4            5 2022-09-16    Dress     Seattle     7513   50.2   \n",
       "..          ...          ...        ...      ...         ...      ...    ...   \n",
       "995         995          996 2022-06-12      Hat   Los Anges     9857   50.2   \n",
       "996         996          997 2022-08-20    Pants    New York     9121   50.2   \n",
       "997         997          998 2021-03-09    Shoes   Los Anges     9321   50.2   \n",
       "998         998          999 2021-06-13  Compter     Seattle     6379   50.2   \n",
       "999         999         1000 2022-01-01  Compter      Dallas     9386   50.2   \n",
       "\n",
       "     discount       tax  cost_of_goods  \n",
       "0    0.070051  0.060433         516.00  \n",
       "1    0.396331  0.087020        1781.20  \n",
       "2    0.354361  0.002370        2949.75  \n",
       "3    0.060434  0.068478        2464.00  \n",
       "4    0.090327  0.013464        3756.50  \n",
       "..        ...       ...            ...  \n",
       "995  0.009385  0.050736        2464.25  \n",
       "996  0.190660  0.011654        3192.35  \n",
       "997  0.299502  0.080569        5592.60  \n",
       "998  0.180285  0.088348        4784.25  \n",
       "999  0.068297  0.061598        7039.50  \n",
       "\n",
       "[1000 rows x 10 columns]"
      ]
     },
     "execution_count": 63,
     "metadata": {},
     "output_type": "execute_result"
    }
   ],
   "source": [
    "sales"
   ]
  },
  {
   "cell_type": "code",
   "execution_count": null,
   "id": "88db833d-8446-4d81-975a-a4d30f7853af",
   "metadata": {},
   "outputs": [],
   "source": []
  },
  {
   "cell_type": "code",
   "execution_count": null,
   "id": "081d6746-aa9a-4309-80e1-4c4d671f2199",
   "metadata": {},
   "outputs": [],
   "source": []
  },
  {
   "cell_type": "code",
   "execution_count": null,
   "id": "433a2ec2-ff98-4b57-a946-b2c892c95077",
   "metadata": {},
   "outputs": [],
   "source": []
  },
  {
   "cell_type": "code",
   "execution_count": null,
   "id": "f9af5106-9673-4a1c-bb21-481a116247db",
   "metadata": {},
   "outputs": [],
   "source": []
  },
  {
   "cell_type": "code",
   "execution_count": null,
   "id": "5e013348-390d-486f-bbe5-b9244851ef1c",
   "metadata": {},
   "outputs": [],
   "source": []
  },
  {
   "cell_type": "code",
   "execution_count": null,
   "id": "ca7ce09a-59b4-41ce-9409-cd989383207e",
   "metadata": {},
   "outputs": [],
   "source": []
  },
  {
   "cell_type": "code",
   "execution_count": null,
   "id": "ceaefbd1-a40f-4d9c-925c-ed4f46adc8eb",
   "metadata": {},
   "outputs": [],
   "source": []
  },
  {
   "cell_type": "code",
   "execution_count": null,
   "id": "e8764b7c-e7d2-4a28-b54b-a1c5c2f5f737",
   "metadata": {},
   "outputs": [],
   "source": []
  },
  {
   "cell_type": "code",
   "execution_count": null,
   "id": "df206707-2436-48c8-a514-1f2aab8ba605",
   "metadata": {},
   "outputs": [],
   "source": []
  },
  {
   "cell_type": "code",
   "execution_count": null,
   "id": "b324872d-ff78-4955-a74e-a0bc4a4ef8ec",
   "metadata": {},
   "outputs": [],
   "source": []
  },
  {
   "cell_type": "code",
   "execution_count": null,
   "id": "697b7820-0a51-447d-856a-e8b45f586403",
   "metadata": {},
   "outputs": [],
   "source": []
  },
  {
   "cell_type": "code",
   "execution_count": null,
   "id": "86108550-9d29-4cfc-938f-b427f7245c20",
   "metadata": {},
   "outputs": [],
   "source": []
  },
  {
   "cell_type": "code",
   "execution_count": null,
   "id": "973563cb-76a0-48c1-b499-bec36121308e",
   "metadata": {},
   "outputs": [],
   "source": []
  },
  {
   "cell_type": "code",
   "execution_count": null,
   "id": "d1157630-63a7-4273-8cea-6481e8eda41d",
   "metadata": {},
   "outputs": [],
   "source": []
  },
  {
   "cell_type": "code",
   "execution_count": null,
   "id": "b5c86fa2-a125-4e48-b403-77a2c62e61a1",
   "metadata": {},
   "outputs": [],
   "source": []
  },
  {
   "cell_type": "code",
   "execution_count": null,
   "id": "6941bbf1-066e-4a9c-bf1e-0c3d9d0badb2",
   "metadata": {},
   "outputs": [],
   "source": []
  },
  {
   "cell_type": "code",
   "execution_count": null,
   "id": "1e997a21-1345-44ed-a392-de2a2581036a",
   "metadata": {},
   "outputs": [],
   "source": []
  },
  {
   "cell_type": "code",
   "execution_count": null,
   "id": "3c5571c5-1f06-44e6-bb92-6d30ea09cdf3",
   "metadata": {},
   "outputs": [],
   "source": []
  },
  {
   "cell_type": "code",
   "execution_count": null,
   "id": "430d9dc9-eb85-4d23-a27d-abe7a0aec4c1",
   "metadata": {},
   "outputs": [],
   "source": []
  },
  {
   "cell_type": "code",
   "execution_count": null,
   "id": "3870d21a-4d23-439a-bdf0-20bc53564b10",
   "metadata": {},
   "outputs": [],
   "source": []
  },
  {
   "cell_type": "code",
   "execution_count": null,
   "id": "790549ff-5f19-472b-81e3-eb4218565b0b",
   "metadata": {},
   "outputs": [],
   "source": []
  },
  {
   "cell_type": "code",
   "execution_count": null,
   "id": "1322b6e6-e7f2-4cd7-abdb-598af841c66e",
   "metadata": {},
   "outputs": [],
   "source": []
  },
  {
   "cell_type": "code",
   "execution_count": null,
   "id": "1c614f88-1d17-48b5-ad03-74c4b8e4276b",
   "metadata": {},
   "outputs": [],
   "source": []
  },
  {
   "cell_type": "code",
   "execution_count": null,
   "id": "516bc9b2-3b26-4859-a626-ed4714bfc1b8",
   "metadata": {},
   "outputs": [],
   "source": []
  },
  {
   "cell_type": "code",
   "execution_count": null,
   "id": "7de49ecc-c82c-44a3-9dd6-b86b2bc5303b",
   "metadata": {},
   "outputs": [],
   "source": []
  },
  {
   "cell_type": "code",
   "execution_count": null,
   "id": "6f59256a-793a-4e39-8d9a-bb58eb1ece88",
   "metadata": {},
   "outputs": [],
   "source": []
  },
  {
   "cell_type": "code",
   "execution_count": null,
   "id": "845c656c-c0a3-4133-b797-336388a62e7e",
   "metadata": {},
   "outputs": [],
   "source": []
  },
  {
   "cell_type": "code",
   "execution_count": null,
   "id": "3bb07cb4-6f40-43bb-a7f5-4479a9cbefe9",
   "metadata": {},
   "outputs": [],
   "source": []
  },
  {
   "cell_type": "code",
   "execution_count": null,
   "id": "5b7ee1db-777a-4ae9-8824-161f283d4a8b",
   "metadata": {},
   "outputs": [],
   "source": []
  },
  {
   "cell_type": "code",
   "execution_count": null,
   "id": "ec698513-6773-43c1-a187-6626db8512e0",
   "metadata": {},
   "outputs": [],
   "source": []
  },
  {
   "cell_type": "code",
   "execution_count": null,
   "id": "25192460-4e14-4d09-862f-e70a409ab311",
   "metadata": {},
   "outputs": [],
   "source": []
  },
  {
   "cell_type": "code",
   "execution_count": null,
   "id": "6b441cb7-d783-4a19-9a43-db0e4c5c28b4",
   "metadata": {},
   "outputs": [],
   "source": []
  }
 ],
 "metadata": {
  "kernelspec": {
   "display_name": "Python 3 (ipykernel)",
   "language": "python",
   "name": "python3"
  },
  "language_info": {
   "codemirror_mode": {
    "name": "ipython",
    "version": 3
   },
   "file_extension": ".py",
   "mimetype": "text/x-python",
   "name": "python",
   "nbconvert_exporter": "python",
   "pygments_lexer": "ipython3",
   "version": "3.12.7"
  }
 },
 "nbformat": 4,
 "nbformat_minor": 5
}
